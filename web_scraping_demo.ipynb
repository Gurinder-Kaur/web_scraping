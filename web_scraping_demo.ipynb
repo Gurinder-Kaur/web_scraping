{
  "nbformat": 4,
  "nbformat_minor": 0,
  "metadata": {
    "colab": {
      "name": "web_scraping_demo.ipynb",
      "version": "0.3.2",
      "provenance": [],
      "include_colab_link": true
    },
    "kernelspec": {
      "name": "python3",
      "display_name": "Python 3"
    }
  },
  "cells": [
    {
      "cell_type": "markdown",
      "metadata": {
        "id": "view-in-github",
        "colab_type": "text"
      },
      "source": [
        "<a href=\"https://colab.research.google.com/github/Gurinder-Kaur/web_scraping/blob/master/web_scraping_demo.ipynb\" target=\"_parent\"><img src=\"https://colab.research.google.com/assets/colab-badge.svg\" alt=\"Open In Colab\"/></a>"
      ]
    },
    {
      "cell_type": "code",
      "metadata": {
        "id": "AQe-dWpC0A5W",
        "colab_type": "code",
        "colab": {}
      },
      "source": [
        "import requests\n",
        "from bs4 import BeautifulSoup"
      ],
      "execution_count": 0,
      "outputs": []
    },
    {
      "cell_type": "code",
      "metadata": {
        "id": "WF5U8Dls0DAe",
        "colab_type": "code",
        "colab": {}
      },
      "source": [
        "r = requests.get(\"https://insideiim.com/tag/interview-experience/\")\n",
        "c = r.content\n",
        "soup = BeautifulSoup(c,\"html.parser\")\n",
        "all = soup.find_all(\"div\",{\"class\":\"menu-category list-group \"})\n",
        "l = []\n",
        "for item in all:\n",
        "  d = {}\n",
        "  d[\"Name\"] = item.find(\"div\",{\"class\":\"byline\"}).text.replace(\"By\",\"\")\n",
        "  company = item.find(\"div\",{\"class\":\"panel-body\"})\n",
        "  d[\"Company\"] = company.find(\"h4\",{\"class\":\"entry-title\"}).text\n",
        "  d[\"Content\"] = company.find(\"p\").text\n",
        "  upvote = item.find(\"div\",{\"class\":\"panel-footer clearfix\"})\n",
        "  d[\"Upvote\"] = upvote.find(\"span\",{\"class\":\"like_count\"}).text\n",
        "  l.append(d)\n",
        "  "
      ],
      "execution_count": 0,
      "outputs": []
    },
    {
      "cell_type": "code",
      "metadata": {
        "id": "VoeD4hXn81jU",
        "colab_type": "code",
        "outputId": "d63750e3-74c5-4070-f2b0-0f9e2a3f17d7",
        "colab": {
          "base_uri": "https://localhost:8080/",
          "height": 363
        }
      },
      "source": [
        "import pandas\n",
        "df = pandas.DataFrame(l)\n",
        "df.to_csv(\"level1.csv\")"
      ],
      "execution_count": 0,
      "outputs": [
        {
          "output_type": "execute_result",
          "data": {
            "text/html": [
              "<div>\n",
              "<style scoped>\n",
              "    .dataframe tbody tr th:only-of-type {\n",
              "        vertical-align: middle;\n",
              "    }\n",
              "\n",
              "    .dataframe tbody tr th {\n",
              "        vertical-align: top;\n",
              "    }\n",
              "\n",
              "    .dataframe thead th {\n",
              "        text-align: right;\n",
              "    }\n",
              "</style>\n",
              "<table border=\"1\" class=\"dataframe\">\n",
              "  <thead>\n",
              "    <tr style=\"text-align: right;\">\n",
              "      <th></th>\n",
              "      <th>Company</th>\n",
              "      <th>Content</th>\n",
              "      <th>Name</th>\n",
              "      <th>Upvote</th>\n",
              "    </tr>\n",
              "  </thead>\n",
              "  <tbody>\n",
              "    <tr>\n",
              "      <th>0</th>\n",
              "      <td>VGSoM, IIT Kharagpur Interview Experience – 2019</td>\n",
              "      <td>Interview Date: 24th March, 2019. Interview Lo...</td>\n",
              "      <td>Sourish Roy</td>\n",
              "      <td>0</td>\n",
              "    </tr>\n",
              "    <tr>\n",
              "      <th>1</th>\n",
              "      <td>MDI Gurgaon Interview Experience 2019</td>\n",
              "      <td>Interview Date: 6th March, 2019. Location: De ...</td>\n",
              "      <td>Sourish Roy</td>\n",
              "      <td>0</td>\n",
              "    </tr>\n",
              "    <tr>\n",
              "      <th>2</th>\n",
              "      <td>XIMB Interview Experience – 2019</td>\n",
              "      <td>Interview Date: 7th March, 2019. Venue: Kenilw...</td>\n",
              "      <td>Sourish Roy</td>\n",
              "      <td>0</td>\n",
              "    </tr>\n",
              "    <tr>\n",
              "      <th>3</th>\n",
              "      <td>IMT Ghaziabad Interview Experience – 2019</td>\n",
              "      <td>Profile: General Engineer Female 1.5 years of ...</td>\n",
              "      <td>Ereka Cyril</td>\n",
              "      <td>0</td>\n",
              "    </tr>\n",
              "    <tr>\n",
              "      <th>4</th>\n",
              "      <td>A Unique MDI Gurgaon Interview Experience – 2019</td>\n",
              "      <td>Profile: General Engineer Female 1.5 years of ...</td>\n",
              "      <td>Ereka Cyril</td>\n",
              "      <td>0</td>\n",
              "    </tr>\n",
              "    <tr>\n",
              "      <th>5</th>\n",
              "      <td>XLRI HRM Interview Experience – 2019</td>\n",
              "      <td>XLRI was my first interview for a B-School and...</td>\n",
              "      <td>Ereka Cyril</td>\n",
              "      <td>10</td>\n",
              "    </tr>\n",
              "    <tr>\n",
              "      <th>6</th>\n",
              "      <td>From TATA Motors To IIM Lucknow | IIM L Interv...</td>\n",
              "      <td>Date- 1 Apr 2019 Lorem ipsum dolor sit amet,...</td>\n",
              "      <td>Adarsh Ranjan</td>\n",
              "      <td>6</td>\n",
              "    </tr>\n",
              "    <tr>\n",
              "      <th>7</th>\n",
              "      <td>NMIMS Mumbai MBA (Core) Interview Experience 2019</td>\n",
              "      <td>Date: 4th February 2019 Profile: Lorem ipsum d...</td>\n",
              "      <td>Akash Harlalka</td>\n",
              "      <td>2</td>\n",
              "    </tr>\n",
              "    <tr>\n",
              "      <th>8</th>\n",
              "      <td>SIBM Pune GE PI WAT Experience – 2019</td>\n",
              "      <td>It was during my second year of work, when I r...</td>\n",
              "      <td>SANCY ISAAC</td>\n",
              "      <td>6</td>\n",
              "    </tr>\n",
              "    <tr>\n",
              "      <th>9</th>\n",
              "      <td>Cracking The IIM Bangalore Interview – A Uniqu...</td>\n",
              "      <td>My best interview experience ever in my life w...</td>\n",
              "      <td>AK SH AY</td>\n",
              "      <td>1</td>\n",
              "    </tr>\n",
              "  </tbody>\n",
              "</table>\n",
              "</div>"
            ],
            "text/plain": [
              "                                             Company  ... Upvote\n",
              "0   VGSoM, IIT Kharagpur Interview Experience – 2019  ...      0\n",
              "1              MDI Gurgaon Interview Experience 2019  ...      0\n",
              "2                   XIMB Interview Experience – 2019  ...      0\n",
              "3          IMT Ghaziabad Interview Experience – 2019  ...      0\n",
              "4   A Unique MDI Gurgaon Interview Experience – 2019  ...      0\n",
              "5               XLRI HRM Interview Experience – 2019  ...     10\n",
              "6  From TATA Motors To IIM Lucknow | IIM L Interv...  ...      6\n",
              "7  NMIMS Mumbai MBA (Core) Interview Experience 2019  ...      2\n",
              "8              SIBM Pune GE PI WAT Experience – 2019  ...      6\n",
              "9  Cracking The IIM Bangalore Interview – A Uniqu...  ...      1\n",
              "\n",
              "[10 rows x 4 columns]"
            ]
          },
          "metadata": {
            "tags": []
          },
          "execution_count": 20
        }
      ]
    },
    {
      "cell_type": "code",
      "metadata": {
        "id": "NnLyOs0O9axk",
        "colab_type": "code",
        "outputId": "db5db6db-6d31-47c8-a5c6-01af74cf9b2a",
        "colab": {
          "base_uri": "https://localhost:8080/",
          "height": 54
        }
      },
      "source": [
        "print(l)"
      ],
      "execution_count": 0,
      "outputs": [
        {
          "output_type": "stream",
          "text": [
            "[{'Name': '  Sourish Roy', 'Company': 'VGSoM, IIT Kharagpur Interview Experience – 2019', 'Content': 'Interview Date: 24th March, 2019. Interview Location: IIT Kharagpur Extension Centre, Salt lake, Kolkata. Profile: Computer Science Engineer, 2.5 years work ex at TCS. I had my interview scheduled in the morning slot. The reporting time was 8:00 AM. I reached there by 7:30. We were taken to the conference room in the 1st floor', 'Upvote': '0'}, {'Name': '  Sourish Roy', 'Company': 'MDI Gurgaon Interview Experience 2019', 'Content': 'Interview Date: 6th March, 2019. Location: De Sovrani Hotel, Salt Lake, Kolkata. Profile: Oracle DBA (TCS), Computer Science Engineer (WBUT) GD and WAT were on the same topic. We had a GD followed by the WAT. The topic was “E-Learning can substitute classroom learning”. There were 11 members in our panel (1 was absent). At', 'Upvote': '0'}, {'Name': '  Sourish Roy', 'Company': 'XIMB Interview Experience – 2019', 'Content': 'Interview Date:\\xa07th March, 2019. Venue: Kenilworth Hotel, Kolkata. We had a GD followed by a WAT on the same topic. The topic was “Good marks are not a reflection of high IQ”. We were given 2 minutes to think, 6 minutes for the GD and another 7 minutes for WAT. Although the GD started a', 'Upvote': '0'}, {'Name': '  Ereka Cyril', 'Company': 'IMT Ghaziabad Interview Experience – 2019', 'Content': 'Profile: General Engineer Female 1.5 years of Work Ex at Infosys Limited CAT- 98.43 percentile Interview Location: CII Institute of Quality, Bangalore Date and Time: Feb 10, 2019 08:00 AM. IMT Ghaziabad is one of those B-Schools that does not have a GD or WAT in its admission process. So everything boils down to one’s', 'Upvote': '0'}, {'Name': '  Ereka Cyril', 'Company': 'A Unique MDI Gurgaon Interview Experience – 2019', 'Content': 'Profile: General Engineer Female 1.5 years of Work Ex at Infosys Limited CAT Score: 98.43 Venue: Pai Viceroy Hotel, Bangalore Date: 11/03/2019 1pm WAT+GD: My MDI panel consisted of 12 aspirants. The topic given for WAT and GD was ‘Vote Bank Politics is hampering development’. The GD went pretty smooth and everyone got a chance', 'Upvote': '0'}, {'Name': '  Ereka Cyril', 'Company': 'XLRI HRM Interview Experience – 2019', 'Content': 'XLRI was my first interview for a B-School and I believe it certainly was my best. I’ll be sharing my complete WAT-GD-PI experience in this post. My Profile General Engineer Female with 1.5 years of WorkEx at Infosys Limited. XAT Score: 98.97 percentile Since XLRI allows us to book an interview slot of our choice,', 'Upvote': '10'}, {'Name': '  Adarsh Ranjan', 'Company': 'From TATA Motors To IIM Lucknow | IIM L Interview Experience', 'Content': '\\xa0 Date- 1 Apr 2019 Lorem ipsum dolor sit amet, consectetur adipiscing elit. Vestibulum elementum nisi sed erat pharetra auctor et eget mauris. Proin placerat enim ante. Duis quam sapien, convallis quis finibus ut, lacinia ac metus. Donec placerat maximus augue, faucibus dignissim odio ultrices imperdiet. Nulla non mollis neque, at sodales ex. Fusce id', 'Upvote': '6'}, {'Name': '  Akash Harlalka', 'Company': 'NMIMS Mumbai MBA (Core) Interview Experience 2019', 'Content': 'Date: 4th February 2019 Profile: Lorem ipsum dolor sit amet, consectetur adipiscing elit. Vestibulum elementum nisi sed erat pharetra auctor et eget mauris. Proin placerat enim ante. Duis quam sapien, convallis quis finibus ut, lacinia ac metus. Donec placerat maximus augue, faucibus dignissim odio ultrices imperdiet. Nulla non mollis neque, at sodales ex. Fusce id', 'Upvote': '2'}, {'Name': '  SANCY ISAAC', 'Company': 'SIBM Pune GE PI WAT Experience – 2019', 'Content': 'It was during my second year of work, when I realized I was really interested in Marketing and had to make a career out of it. Pursuing an MBA degree was one of the assured ways to help me in fulfilling my vision and focusing on high-value employment opportunities with great career prospects in top', 'Upvote': '6'}, {'Name': '  AK SH AY', 'Company': 'Cracking The IIM Bangalore Interview – A Unique Story | IIM Bangalore Interview Experience 2019', 'Content': 'My best interview experience ever in my life was the IIM Bangalore Personal interview for PGP 2019 -21. For the best part, I had my interview in IIM Bangalore itself. I got the 10 AM slot. There were about 16 candidates divided into two panels of 8 members each. Each interview panel had three interviewers', 'Upvote': '1'}]\n"
          ],
          "name": "stdout"
        }
      ]
    }
  ]
}